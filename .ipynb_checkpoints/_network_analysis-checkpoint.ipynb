{
 "cells": [
  {
   "cell_type": "code",
   "execution_count": 1,
   "metadata": {},
   "outputs": [],
   "source": [
    "import networkx as nx\n",
    "import pandas as pd\n",
    "import matplotlib.pyplot as plt"
   ]
  },
  {
   "cell_type": "code",
   "execution_count": 2,
   "metadata": {},
   "outputs": [
    {
     "name": "stdout",
     "output_type": "stream",
     "text": [
      "Requirement already satisfied: rdflib in c:\\users\\louis\\anaconda3\\lib\\site-packages (5.0.0)\n",
      "Requirement already satisfied: six in c:\\users\\louis\\anaconda3\\lib\\site-packages (from rdflib) (1.15.0)\n",
      "Requirement already satisfied: pyparsing in c:\\users\\louis\\anaconda3\\lib\\site-packages (from rdflib) (2.4.7)\n",
      "Requirement already satisfied: isodate in c:\\users\\louis\\anaconda3\\lib\\site-packages (from rdflib) (0.6.0)\n"
     ]
    }
   ],
   "source": [
    "!pip install rdflib"
   ]
  },
  {
   "cell_type": "code",
   "execution_count": 3,
   "metadata": {},
   "outputs": [],
   "source": [
    "import rdflib\n",
    "from rdflib.extras.external_graph_libs import rdflib_to_networkx_digraph\n",
    "from rdflib.extras.external_graph_libs import rdflib_to_networkx_multidigraph"
   ]
  },
  {
   "cell_type": "markdown",
   "metadata": {},
   "source": [
    "# Creation of the graph"
   ]
  },
  {
   "cell_type": "code",
   "execution_count": 6,
   "metadata": {
    "scrolled": false
   },
   "outputs": [
    {
     "ename": "BadSyntax",
     "evalue": "at line 1 of <>:\nBad syntax (expected directive or statement) at ^ in:\n\"b''^b'\\xc3\\xaf\\xc2\\xbb\\xc2\\xbf@prefix : <http://mapping.example.com/> .\\n@prefix d2rq'...\"",
     "output_type": "error",
     "traceback": [
      "Traceback \u001b[1;36m(most recent call last)\u001b[0m:\n",
      "  File \u001b[0;32m\"C:\\Users\\louis\\anaconda3\\lib\\site-packages\\IPython\\core\\interactiveshell.py\"\u001b[0m, line \u001b[0;32m3343\u001b[0m, in \u001b[0;35mrun_code\u001b[0m\n    exec(code_obj, self.user_global_ns, self.user_ns)\n",
      "  File \u001b[0;32m\"<ipython-input-6-ce0e327b9eaa>\"\u001b[0m, line \u001b[0;32m9\u001b[0m, in \u001b[0;35m<module>\u001b[0m\n    g.parse(categories, format='ttl')\n",
      "  File \u001b[0;32m\"C:\\Users\\louis\\anaconda3\\lib\\site-packages\\rdflib\\graph.py\"\u001b[0m, line \u001b[0;32m1078\u001b[0m, in \u001b[0;35mparse\u001b[0m\n    parser.parse(source, self, **args)\n",
      "  File \u001b[0;32m\"C:\\Users\\louis\\anaconda3\\lib\\site-packages\\rdflib\\plugins\\parsers\\notation3.py\"\u001b[0m, line \u001b[0;32m1886\u001b[0m, in \u001b[0;35mparse\u001b[0m\n    p.loadStream(source.getByteStream())\n",
      "  File \u001b[0;32m\"C:\\Users\\louis\\anaconda3\\lib\\site-packages\\rdflib\\plugins\\parsers\\notation3.py\"\u001b[0m, line \u001b[0;32m442\u001b[0m, in \u001b[0;35mloadStream\u001b[0m\n    return self.loadBuf(stream.read())    # Not ideal\n",
      "  File \u001b[0;32m\"C:\\Users\\louis\\anaconda3\\lib\\site-packages\\rdflib\\plugins\\parsers\\notation3.py\"\u001b[0m, line \u001b[0;32m448\u001b[0m, in \u001b[0;35mloadBuf\u001b[0m\n    self.feed(buf)\n",
      "  File \u001b[0;32m\"C:\\Users\\louis\\anaconda3\\lib\\site-packages\\rdflib\\plugins\\parsers\\notation3.py\"\u001b[0m, line \u001b[0;32m477\u001b[0m, in \u001b[0;35mfeed\u001b[0m\n    self.BadSyntax(s, j,\n",
      "\u001b[1;36m  File \u001b[1;32m\"C:\\Users\\louis\\anaconda3\\lib\\site-packages\\rdflib\\plugins\\parsers\\notation3.py\"\u001b[1;36m, line \u001b[1;32m1623\u001b[1;36m, in \u001b[1;35mBadSyntax\u001b[1;36m\u001b[0m\n\u001b[1;33m    raise BadSyntax(self._thisDoc, self.lines, argstr, i, msg)\u001b[0m\n",
      "\u001b[1;36m  File \u001b[1;32m\"<string>\"\u001b[1;36m, line \u001b[1;32munknown\u001b[0m\n\u001b[1;31mBadSyntax\u001b[0m\n"
     ]
    }
   ],
   "source": [
    "g = rdflib.Graph()\n",
    "\n",
    "categories = open(\"categories.ttl\")\n",
    "ingredients = open(\"ingredients.ttl\")\n",
    "countries = open(\"countries.ttl\")\n",
    "nutriscores = open(\"nutriscores.ttl\")\n",
    "products = open(\"products.ttl\")\n",
    "\n",
    "g.parse(categories, format='ttl')\n",
    "g.parse(ingredients, format='ttl')\n",
    "g.parse(countries, format='ttl')\n",
    "g.parse(nutriscores, format='ttl')\n",
    "g.parse(products, format='ttl')"
   ]
  },
  {
   "cell_type": "markdown",
   "metadata": {},
   "source": [
    "# Converting rdflib.Graph to networkx.Graph"
   ]
  },
  {
   "cell_type": "code",
   "execution_count": 6,
   "metadata": {},
   "outputs": [],
   "source": [
    "mdg = rdflib_to_networkx_multidigraph(g)\n",
    "dg = rdflib_to_networkx_digraph(g)\n",
    "# gx = rdflib_to_networkx_graph(g)"
   ]
  },
  {
   "cell_type": "code",
   "execution_count": 7,
   "metadata": {
    "scrolled": false
   },
   "outputs": [
    {
     "data": {
      "text/plain": [
       "0"
      ]
     },
     "execution_count": 7,
     "metadata": {},
     "output_type": "execute_result"
    }
   ],
   "source": [
    "mdg.number_of_nodes()"
   ]
  },
  {
   "cell_type": "code",
   "execution_count": 8,
   "metadata": {},
   "outputs": [
    {
     "data": {
      "text/plain": [
       "0"
      ]
     },
     "execution_count": 8,
     "metadata": {},
     "output_type": "execute_result"
    }
   ],
   "source": [
    "mdg.number_of_edges()"
   ]
  },
  {
   "cell_type": "code",
   "execution_count": 9,
   "metadata": {},
   "outputs": [
    {
     "data": {
      "text/plain": [
       "12.921215981187077"
      ]
     },
     "execution_count": 9,
     "metadata": {},
     "output_type": "execute_result"
    }
   ],
   "source": [
    "degrees = [val for (node, val) in mdg.degree()]\n",
    "sum_degrees = sum(degrees)\n",
    "avg_degree_g = sum_degrees / mdg.number_of_nodes()\n",
    "avg_degree_g"
   ]
  },
  {
   "cell_type": "markdown",
   "metadata": {},
   "source": [
    "# Centrality Measures"
   ]
  },
  {
   "cell_type": "markdown",
   "metadata": {},
   "source": [
    "#### Degree Centrality"
   ]
  },
  {
   "cell_type": "markdown",
   "metadata": {},
   "source": [
    "A measure of the \"connectedness\" of a node to all other nodes in a network. \"For particular noden it is the fraction of nodes in the graph that it is connected to\"."
   ]
  },
  {
   "cell_type": "code",
   "execution_count": 10,
   "metadata": {},
   "outputs": [
    {
     "name": "stdout",
     "output_type": "stream",
     "text": [
      " 0.307 https://www.bbc.co.uk/ontologies/fo/Ingredient\n",
      " 0.176 https://schema.org/Product\n",
      " 0.112 0\n",
      " 0.106 https://w3id.org/um/ken4256/country/france\n",
      " 0.105 4.0\n",
      " 0.066 1\n",
      " 0.054 https://w3id.org/um/ken4256/ingredient/sel\n",
      " 0.053 https://w3id.org/um/ken4256/category/plant-based-foods-and-beverages\n",
      " 0.049 5\n",
      " 0.048 d\n"
     ]
    }
   ],
   "source": [
    "results = nx.degree_centrality(mdg)\n",
    "ind_rank = {}\n",
    "\n",
    "for node_id, rank in sorted(results.items(), key=lambda item: item[1], reverse=True)[:10]:\n",
    "    print(\"{:6.3f} {}\".format(rank, node_id))"
   ]
  },
  {
   "cell_type": "code",
   "execution_count": 11,
   "metadata": {},
   "outputs": [
    {
     "name": "stdout",
     "output_type": "stream",
     "text": [
      "0.05391 https://w3id.org/um/ken4256/ingredient/sel\n",
      "0.04094 https://w3id.org/um/ken4256/ingredient/sucre\n",
      "0.03887 https://w3id.org/um/ken4256/ingredient/eau\n",
      "0.01820 https://w3id.org/um/ken4256/ingredient/farine_de_bl%C3%A9\n",
      "0.01400 https://w3id.org/um/ken4256/ingredient/dextrose\n",
      "0.01208 https://w3id.org/um/ken4256/ingredient/huile_de_tournesol\n",
      "0.01122 https://w3id.org/um/ken4256/ingredient/conservateur\n",
      "0.01109 https://w3id.org/um/ken4256/ingredient/acide_citrique\n",
      "0.01106 https://w3id.org/um/ken4256/ingredient/%C3%A9mulsifiant\n",
      "0.01031 https://w3id.org/um/ken4256/ingredient/lait\n",
      "0.01028 https://w3id.org/um/ken4256/ingredient/acidifiant\n"
     ]
    }
   ],
   "source": [
    "results = nx.degree_centrality(mdg)\n",
    "ind_rank = {}\n",
    "topn = 0\n",
    "for node_id, rank in sorted(results.items(), key=lambda item: item[1], reverse=True):\n",
    "    if node_id.startswith('https://w3id.org/um/ken4256/ingredient/'):\n",
    "        print(\"{:6.5f} {}\".format(rank, node_id))\n",
    "        topn += 1\n",
    "        if topn > 10:\n",
    "            break"
   ]
  },
  {
   "cell_type": "markdown",
   "metadata": {},
   "source": [
    "#### Closeness Centrality"
   ]
  },
  {
   "cell_type": "code",
   "execution_count": 12,
   "metadata": {},
   "outputs": [
    {
     "name": "stdout",
     "output_type": "stream",
     "text": [
      " 0.354 https://www.bbc.co.uk/ontologies/fo/Ingredient\n",
      " 0.176 https://schema.org/Product\n",
      " 0.108 https://www.bbc.co.uk/ontologies/fo/ShoppingCategory\n",
      " 0.106 https://w3id.org/um/ken4256/country/france\n",
      " 0.103 4.0\n",
      " 0.088 https://schema.org/Country\n",
      " 0.054 https://w3id.org/um/ken4256/ingredient/sel\n",
      " 0.053 https://w3id.org/um/ken4256/category/plant-based-foods-and-beverages\n",
      " 0.053 France\n",
      " 0.051 1\n"
     ]
    }
   ],
   "source": [
    "results = nx.closeness_centrality(mdg)\n",
    "ind_rank = {}\n",
    "\n",
    "for node_id, rank in sorted(results.items(), key=lambda item: item[1], reverse=True)[:10]:\n",
    "    print(\"{:6.3f} {}\".format(rank, node_id))"
   ]
  },
  {
   "cell_type": "code",
   "execution_count": 13,
   "metadata": {},
   "outputs": [
    {
     "name": "stdout",
     "output_type": "stream",
     "text": [
      "EIGENVECTOR CENTRALITY\n",
      " 0.905 https://www.bbc.co.uk/ontologies/fo/Ingredient\n",
      " 0.408 https://www.bbc.co.uk/ontologies/fo/ShoppingCategory\n",
      " 0.078 https://schema.org/Country\n",
      " 0.041 France\n",
      " 0.034 https://schema.org/Product\n",
      " 0.021 sel\n",
      " 0.021 Plant-based foods and beverages\n",
      " 0.021 https://w3id.org/um/ken4256/country/france\n",
      " 0.020 4.0\n",
      " 0.018 Plant-based foods\n"
     ]
    }
   ],
   "source": [
    "print(\"EIGENVECTOR CENTRALITY\")\n",
    "results = nx.eigenvector_centrality(dg)\n",
    "ind_rank = {}\n",
    "\n",
    "for node_id, rank in sorted(results.items(), key=lambda item: item[1], reverse=True)[:10]:\n",
    "    print(\"{:6.3f} {}\".format(rank, node_id))"
   ]
  },
  {
   "cell_type": "markdown",
   "metadata": {},
   "source": [
    "#### Ranking with PageRank"
   ]
  },
  {
   "cell_type": "code",
   "execution_count": 14,
   "metadata": {},
   "outputs": [
    {
     "name": "stdout",
     "output_type": "stream",
     "text": [
      " 0.095 https://www.bbc.co.uk/ontologies/fo/Ingredient\n",
      " 0.020 https://www.bbc.co.uk/ontologies/fo/ShoppingCategory\n",
      " 0.003 https://schema.org/Product\n",
      " 0.003 https://schema.org/Country\n",
      " 0.002 0\n",
      " 0.002 https://w3id.org/um/ken4256/country/france\n",
      " 0.001 4.0\n",
      " 0.001 France\n",
      " 0.001 1\n",
      " 0.001 https://w3id.org/um/ken4256/category/plant-based-foods-and-beverages\n"
     ]
    }
   ],
   "source": [
    "page_rank = nx.pagerank(dg)\n",
    "\n",
    "for node_id, rank in sorted(page_rank.items(), key=lambda item: item[1], reverse=True)[:10]:\n",
    "    print(\"{:6.3f} {}\".format(rank, node_id))"
   ]
  },
  {
   "cell_type": "markdown",
   "metadata": {},
   "source": [
    "# Clustering"
   ]
  },
  {
   "cell_type": "code",
   "execution_count": 15,
   "metadata": {},
   "outputs": [
    {
     "ename": "KeyboardInterrupt",
     "evalue": "",
     "output_type": "error",
     "traceback": [
      "\u001b[1;31m---------------------------------------------------------------------------\u001b[0m",
      "\u001b[1;31mKeyboardInterrupt\u001b[0m                         Traceback (most recent call last)",
      "\u001b[1;32m<ipython-input-15-48c57119ddb6>\u001b[0m in \u001b[0;36m<module>\u001b[1;34m\u001b[0m\n\u001b[1;32m----> 1\u001b[1;33m \u001b[0mcl\u001b[0m \u001b[1;33m=\u001b[0m \u001b[0mnx\u001b[0m\u001b[1;33m.\u001b[0m\u001b[0mclustering\u001b[0m\u001b[1;33m(\u001b[0m\u001b[0mdg\u001b[0m\u001b[1;33m,\u001b[0m \u001b[0mweight\u001b[0m\u001b[1;33m=\u001b[0m\u001b[1;36m10\u001b[0m\u001b[1;33m)\u001b[0m\u001b[1;33m\u001b[0m\u001b[1;33m\u001b[0m\u001b[0m\n\u001b[0m\u001b[0;32m      2\u001b[0m \u001b[0mprint\u001b[0m\u001b[1;33m(\u001b[0m\u001b[1;34m\"CLUSTERS\"\u001b[0m\u001b[1;33m)\u001b[0m\u001b[1;33m\u001b[0m\u001b[1;33m\u001b[0m\u001b[0m\n\u001b[0;32m      3\u001b[0m \u001b[0mprint\u001b[0m\u001b[1;33m(\u001b[0m\u001b[1;34m\"=============\"\u001b[0m\u001b[1;33m)\u001b[0m\u001b[1;33m\u001b[0m\u001b[1;33m\u001b[0m\u001b[0m\n\u001b[0;32m      4\u001b[0m \u001b[0mprint\u001b[0m\u001b[1;33m(\u001b[0m\u001b[1;34m\"The graph has {} clusters\"\u001b[0m\u001b[1;33m.\u001b[0m\u001b[0mformat\u001b[0m\u001b[1;33m(\u001b[0m\u001b[0mlen\u001b[0m\u001b[1;33m(\u001b[0m\u001b[0mcl\u001b[0m\u001b[1;33m)\u001b[0m\u001b[1;33m)\u001b[0m\u001b[1;33m)\u001b[0m\u001b[1;33m\u001b[0m\u001b[1;33m\u001b[0m\u001b[0m\n\u001b[0;32m      5\u001b[0m \u001b[1;32mfor\u001b[0m \u001b[0mi\u001b[0m\u001b[1;33m,\u001b[0m\u001b[0mc\u001b[0m \u001b[1;32min\u001b[0m \u001b[0menumerate\u001b[0m\u001b[1;33m(\u001b[0m\u001b[0mcl\u001b[0m\u001b[1;33m)\u001b[0m\u001b[1;33m:\u001b[0m\u001b[1;33m\u001b[0m\u001b[1;33m\u001b[0m\u001b[0m\n",
      "\u001b[1;32m~\\anaconda3\\lib\\site-packages\\networkx\\algorithms\\cluster.py\u001b[0m in \u001b[0;36mclustering\u001b[1;34m(G, nodes, weight)\u001b[0m\n\u001b[0;32m    348\u001b[0m             td_iter = _directed_weighted_triangles_and_degree_iter(\n\u001b[0;32m    349\u001b[0m                 G, nodes, weight)\n\u001b[1;32m--> 350\u001b[1;33m             clusterc = {v: 0 if t == 0 else t / ((dt * (dt - 1) - 2 * db) * 2)\n\u001b[0m\u001b[0;32m    351\u001b[0m                         for v, dt, db, t in td_iter}\n\u001b[0;32m    352\u001b[0m         \u001b[1;32melse\u001b[0m\u001b[1;33m:\u001b[0m\u001b[1;33m\u001b[0m\u001b[1;33m\u001b[0m\u001b[0m\n",
      "\u001b[1;32m~\\anaconda3\\lib\\site-packages\\networkx\\algorithms\\cluster.py\u001b[0m in \u001b[0;36m<dictcomp>\u001b[1;34m(.0)\u001b[0m\n\u001b[0;32m    348\u001b[0m             td_iter = _directed_weighted_triangles_and_degree_iter(\n\u001b[0;32m    349\u001b[0m                 G, nodes, weight)\n\u001b[1;32m--> 350\u001b[1;33m             clusterc = {v: 0 if t == 0 else t / ((dt * (dt - 1) - 2 * db) * 2)\n\u001b[0m\u001b[0;32m    351\u001b[0m                         for v, dt, db, t in td_iter}\n\u001b[0;32m    352\u001b[0m         \u001b[1;32melse\u001b[0m\u001b[1;33m:\u001b[0m\u001b[1;33m\u001b[0m\u001b[1;33m\u001b[0m\u001b[0m\n",
      "\u001b[1;32m~\\anaconda3\\lib\\site-packages\\networkx\\algorithms\\cluster.py\u001b[0m in \u001b[0;36m_directed_weighted_triangles_and_degree_iter\u001b[1;34m(G, nodes, weight)\u001b[0m\n\u001b[0;32m    189\u001b[0m         \u001b[1;32mfor\u001b[0m \u001b[0mj\u001b[0m \u001b[1;32min\u001b[0m \u001b[0misuccs\u001b[0m\u001b[1;33m:\u001b[0m\u001b[1;33m\u001b[0m\u001b[1;33m\u001b[0m\u001b[0m\n\u001b[0;32m    190\u001b[0m             \u001b[0mjpreds\u001b[0m \u001b[1;33m=\u001b[0m \u001b[0mset\u001b[0m\u001b[1;33m(\u001b[0m\u001b[0mG\u001b[0m\u001b[1;33m.\u001b[0m\u001b[0m_pred\u001b[0m\u001b[1;33m[\u001b[0m\u001b[0mj\u001b[0m\u001b[1;33m]\u001b[0m\u001b[1;33m)\u001b[0m \u001b[1;33m-\u001b[0m \u001b[1;33m{\u001b[0m\u001b[0mj\u001b[0m\u001b[1;33m}\u001b[0m\u001b[1;33m\u001b[0m\u001b[1;33m\u001b[0m\u001b[0m\n\u001b[1;32m--> 191\u001b[1;33m             \u001b[0mjsuccs\u001b[0m \u001b[1;33m=\u001b[0m \u001b[0mset\u001b[0m\u001b[1;33m(\u001b[0m\u001b[0mG\u001b[0m\u001b[1;33m.\u001b[0m\u001b[0m_succ\u001b[0m\u001b[1;33m[\u001b[0m\u001b[0mj\u001b[0m\u001b[1;33m]\u001b[0m\u001b[1;33m)\u001b[0m \u001b[1;33m-\u001b[0m \u001b[1;33m{\u001b[0m\u001b[0mj\u001b[0m\u001b[1;33m}\u001b[0m\u001b[1;33m\u001b[0m\u001b[1;33m\u001b[0m\u001b[0m\n\u001b[0m\u001b[0;32m    192\u001b[0m             directed_triangles += sum((wt(i, j) * wt(k, i) * wt(k, j))**(1 / 3)\n\u001b[0;32m    193\u001b[0m                                       for k in ipreds & jpreds)\n",
      "\u001b[1;31mKeyboardInterrupt\u001b[0m: "
     ]
    }
   ],
   "source": [
    "cl = nx.clustering(dg, weight=10)\n",
    "print(\"CLUSTERS\")\n",
    "print(\"=============\")\n",
    "print(\"The graph has {} clusters\".format(len(cl)))\n",
    "for i,c in enumerate(cl):\n",
    "    print(\"Cluster {} has {} nodes\".format(i, len(c)))\n",
    "print()"
   ]
  },
  {
   "cell_type": "code",
   "execution_count": null,
   "metadata": {},
   "outputs": [],
   "source": [
    "def transform_str(x):\n",
    "    return str(x)"
   ]
  },
  {
   "cell_type": "code",
   "execution_count": null,
   "metadata": {},
   "outputs": [],
   "source": [
    "dg = rdflib_to_network_digraph(g, transform_s=transform_str, transform_o=transform_str)\n",
    "G = dg.to_undirected()"
   ]
  },
  {
   "cell_type": "code",
   "execution_count": null,
   "metadata": {},
   "outputs": [],
   "source": [
    "preds= nx.jaccard_coefficient(G,[(u,v)])\n",
    "for u, v, p in preds:\n",
    "    print(f\"({u}, {v}) -> {p:.8f}\")"
   ]
  },
  {
   "cell_type": "code",
   "execution_count": null,
   "metadata": {},
   "outputs": [],
   "source": [
    "preds= nx.adamic_adar_index(G,[(u,v)])\n",
    "for u, v, p in preds:\n",
    "    print(f\"({u}, {v}) -> {p:.8f}\")"
   ]
  },
  {
   "cell_type": "markdown",
   "metadata": {},
   "source": [
    "## Using network similarity, find the top 10 most similar ingredients to \"golden zucchini\""
   ]
  },
  {
   "cell_type": "code",
   "execution_count": null,
   "metadata": {},
   "outputs": [],
   "source": [
    "u = 'https://w3id.org/um/ken4256/ingredient/golden_zucchini'\n",
    "pairs =[]\n",
    "for v in G.nodes:\n",
    "    if v.startswith('https://w3id.org/um/ken4256/ingredient/') and v != u: \n",
    "        pairs.append((u,v))\n",
    "pairs"
   ]
  }
 ],
 "metadata": {
  "kernelspec": {
   "display_name": "Python 3",
   "language": "python",
   "name": "python3"
  },
  "language_info": {
   "codemirror_mode": {
    "name": "ipython",
    "version": 3
   },
   "file_extension": ".py",
   "mimetype": "text/x-python",
   "name": "python",
   "nbconvert_exporter": "python",
   "pygments_lexer": "ipython3",
   "version": "3.8.3"
  }
 },
 "nbformat": 4,
 "nbformat_minor": 4
}
